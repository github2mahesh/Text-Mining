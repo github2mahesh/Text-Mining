{
 "cells": [
  {
   "cell_type": "markdown",
   "metadata": {},
   "source": [
    "<div class=\"alert alert-info\">\n",
    "    \n",
    "➡️ Make sure that you have read the **[rules for hand-in assignments](https://www.ida.liu.se/~TDDE16/exam.en.shtml#handins)** and the **[policy on cheating and plagiarism](https://www.ida.liu.se/~TDDE16/exam.en.shtml#cheating)** before starting with this lab.\n",
    "\n",
    "➡️ Make sure you fill in any cells (and _only_ those cells) that say **`YOUR CODE HERE`** or **YOUR ANSWER HERE**, and do _not_ modify any of the other cells.\n",
    "\n",
    "➡️ **Before you submit your lab, make sure everything runs as expected.** For this, _restart the kernel_ and _run all cells_ from top to bottom. In Jupyter Notebook version 7 or higher, you can do this via \"Run$\\rightarrow$Restart Kernel and Run All Cells...\" in the menu (or the \"⏩\" button in the toolbar).\n",
    "\n",
    "</div>"
   ]
  },
  {
   "cell_type": "markdown",
   "metadata": {},
   "source": [
    "# L2: Text classification"
   ]
  },
  {
   "cell_type": "markdown",
   "metadata": {},
   "source": [
    "Text classification is the task of sorting text documents into predefined classes. The concrete problem you will be working on in this lab is the classification of texts with respect to their political affiliation. The specific texts you are going to classify are speeches held in the [Riksdag](https://www.riksdagen.se/en/), the Swedish national legislature."
   ]
  },
  {
   "cell_type": "code",
   "execution_count": 1,
   "metadata": {},
   "outputs": [],
   "source": [
    "%matplotlib inline"
   ]
  },
  {
   "cell_type": "markdown",
   "metadata": {},
   "source": [
    "## Data set"
   ]
  },
  {
   "cell_type": "markdown",
   "metadata": {},
   "source": [
    "The raw data for this lab comes from [The Riksdag’s Open Data](https://data.riksdagen.se/in-english/). We have tokenized the speeches and put them into two compressed [JSON](https://en.wikipedia.org/wiki/JSON) files:\n",
    "\n",
    "* `speeches-201718.json.bz2` (speeches from the 2017/2018 parliamentary session)\n",
    "* `speeches-201819.json.bz2` (ditto, from the 2018/2019 session)\n",
    "\n",
    "We start by loading these files into two separate data frames."
   ]
  },
  {
   "cell_type": "code",
   "execution_count": 2,
   "metadata": {
    "deletable": false,
    "editable": false,
    "nbgrader": {
     "cell_type": "code",
     "checksum": "307d5065cd72a20cc0d045520d90c487",
     "grade": false,
     "grade_id": "cell-381ec95ffbde9678",
     "locked": true,
     "schema_version": 3,
     "solution": false,
     "task": false
    }
   },
   "outputs": [],
   "source": [
    "import pandas as pd\n",
    "import bz2\n",
    "\n",
    "with bz2.open('speeches-201718.json.bz2') as source:\n",
    "    speeches_201718 = pd.read_json(source)\n",
    "\n",
    "with bz2.open('speeches-201819.json.bz2') as source:\n",
    "    speeches_201819 = pd.read_json(source)"
   ]
  },
  {
   "cell_type": "markdown",
   "metadata": {},
   "source": [
    "When you inspect the two data frames, you can see that there are three labelled columns: `id` (the official speech ID), `words` (the space-separated words of the speech), and `party` (the party of the speaker, represented by its customary abbreviation)."
   ]
  },
  {
   "cell_type": "code",
   "execution_count": 3,
   "metadata": {
    "scrolled": true
   },
   "outputs": [
    {
     "data": {
      "text/html": [
       "<div>\n",
       "<style scoped>\n",
       "    .dataframe tbody tr th:only-of-type {\n",
       "        vertical-align: middle;\n",
       "    }\n",
       "\n",
       "    .dataframe tbody tr th {\n",
       "        vertical-align: top;\n",
       "    }\n",
       "\n",
       "    .dataframe thead th {\n",
       "        text-align: right;\n",
       "    }\n",
       "</style>\n",
       "<table border=\"1\" class=\"dataframe\">\n",
       "  <thead>\n",
       "    <tr style=\"text-align: right;\">\n",
       "      <th></th>\n",
       "      <th>id</th>\n",
       "      <th>words</th>\n",
       "      <th>party</th>\n",
       "    </tr>\n",
       "  </thead>\n",
       "  <tbody>\n",
       "    <tr>\n",
       "      <th>0</th>\n",
       "      <td>H5-002-004</td>\n",
       "      <td>eders majestäter eders kungliga högheter herr ...</td>\n",
       "      <td>S</td>\n",
       "    </tr>\n",
       "    <tr>\n",
       "      <th>1</th>\n",
       "      <td>H5-003-001</td>\n",
       "      <td>aktuell debatt om situationen för ensamkommand...</td>\n",
       "      <td>V</td>\n",
       "    </tr>\n",
       "    <tr>\n",
       "      <th>2</th>\n",
       "      <td>H5-003-002</td>\n",
       "      <td>herr talman och ledamöter jag vill börja med a...</td>\n",
       "      <td>S</td>\n",
       "    </tr>\n",
       "    <tr>\n",
       "      <th>3</th>\n",
       "      <td>H5-003-003</td>\n",
       "      <td>herr talman åhörare den här debatten handlar a...</td>\n",
       "      <td>M</td>\n",
       "    </tr>\n",
       "    <tr>\n",
       "      <th>4</th>\n",
       "      <td>H5-003-004</td>\n",
       "      <td>herr talman ansvar och rättssäkerhet är två or...</td>\n",
       "      <td>SD</td>\n",
       "    </tr>\n",
       "  </tbody>\n",
       "</table>\n",
       "</div>"
      ],
      "text/plain": [
       "           id                                              words party\n",
       "0  H5-002-004  eders majestäter eders kungliga högheter herr ...     S\n",
       "1  H5-003-001  aktuell debatt om situationen för ensamkommand...     V\n",
       "2  H5-003-002  herr talman och ledamöter jag vill börja med a...     S\n",
       "3  H5-003-003  herr talman åhörare den här debatten handlar a...     M\n",
       "4  H5-003-004  herr talman ansvar och rättssäkerhet är två or...    SD"
      ]
     },
     "execution_count": 3,
     "metadata": {},
     "output_type": "execute_result"
    }
   ],
   "source": [
    "speeches_201718.head()"
   ]
  },
  {
   "cell_type": "markdown",
   "metadata": {},
   "source": [
    "Throughout the lab, we will be using the speeches from 2017/2018 as our training data, and the speeches from 2018/2019 as our test data."
   ]
  },
  {
   "cell_type": "code",
   "execution_count": 4,
   "metadata": {
    "deletable": false,
    "editable": false,
    "nbgrader": {
     "cell_type": "code",
     "checksum": "e79a1e65d8e7b70c0662a5454e1e68a5",
     "grade": false,
     "grade_id": "cell-d4057991468fe3ef",
     "locked": true,
     "schema_version": 3,
     "solution": false,
     "task": false
    }
   },
   "outputs": [],
   "source": [
    "training_data, test_data = speeches_201718, speeches_201819"
   ]
  },
  {
   "cell_type": "markdown",
   "metadata": {},
   "source": [
    "For later reference, we store the sorted list of party abbreviations."
   ]
  },
  {
   "cell_type": "code",
   "execution_count": 5,
   "metadata": {
    "deletable": false,
    "editable": false,
    "nbgrader": {
     "cell_type": "code",
     "checksum": "57deed85311d4191b3be477e70bd79a9",
     "grade": false,
     "grade_id": "cell-a3f76eff9ee4739f",
     "locked": true,
     "schema_version": 3,
     "solution": false,
     "task": false
    }
   },
   "outputs": [
    {
     "name": "stdout",
     "output_type": "stream",
     "text": [
      "['C', 'KD', 'L', 'M', 'MP', 'S', 'SD', 'V']\n"
     ]
    }
   ],
   "source": [
    "parties = sorted(training_data['party'].unique())\n",
    "print(parties)"
   ]
  },
  {
   "cell_type": "markdown",
   "metadata": {},
   "source": [
    "## Problem 1: Visualization"
   ]
  },
  {
   "cell_type": "markdown",
   "metadata": {},
   "source": [
    "Your first task is to get to know the data better by producing a simple visualization.\n",
    "\n",
    "If you are not familiar with the Swedish political system and the parties represented in the Riksdag in particular, then we suggest that you have a look at the Wikipedia article about the [2018 Swedish general election](https://en.wikipedia.org/wiki/2018_Swedish_general_election).\n",
    "\n",
    "For the lab, we ask you to compare the two data frames with respect to the distribution of the speeches over the different parties. **Write code to generate two bar plots that visualize this information**, one for the 2017/2018 speeches and one for the 2018/2019 speeches. Inspect the two plots, and compare them\n",
    "\n",
    "* to each other\n",
    "* to the results of the 2014 and the 2018 general elections\n",
    "\n",
    "Summarize your observations in a short text in the cell below.\n",
    "\n",
    "**Tip:** If you need help with creating bar plots, [Bar Plot using Pandas](https://dfrieds.com/data-visualizations/bar-plot-python-pandas) provides a useful tutorial."
   ]
  },
  {
   "cell_type": "code",
   "execution_count": 6,
   "metadata": {
    "deletable": false,
    "nbgrader": {
     "cell_type": "code",
     "checksum": "f7e3ecd4fa3be403cc90848238c5798c",
     "grade": true,
     "grade_id": "cell-435dbe643962a0e1",
     "locked": false,
     "points": 1,
     "schema_version": 3,
     "solution": true,
     "task": false
    },
    "tags": [
     "solution"
    ]
   },
   "outputs": [
    {
     "data": {
      "image/png": "[encoded data removed]",
      "text/plain": [
       "<Figure size 640x480 with 1 Axes>"
      ]
     },
     "metadata": {},
     "output_type": "display_data"
    }
   ],
   "source": [
    "\"\"\"Produce a plot for the 2017/2018 speeches.\"\"\"\n",
    "import matplotlib.pyplot as plt\n",
    "\n",
    "speeches_201718['party'].value_counts().plot(kind='bar')\n",
    "plt.title('Distribution of Speeches - 2017/2018')\n",
    "plt.show()\n",
    "\n",
    "#raise NotImplementedError()"
   ]
  },
  {
   "cell_type": "code",
   "execution_count": 7,
   "metadata": {
    "deletable": false,
    "nbgrader": {
     "cell_type": "code",
     "checksum": "88de81ab2455cf6cbd7289cf9b0136b4",
     "grade": true,
     "grade_id": "cell-8b8855796909494a",
     "locked": false,
     "points": 1,
     "schema_version": 3,
     "solution": true,
     "task": false
    },
    "tags": [
     "solution"
    ]
   },
   "outputs": [
    {
     "data": {
      "image/png": "[encoded data removed]",
      "text/plain": [
       "<Figure size 640x480 with 1 Axes>"
      ]
     },
     "metadata": {},
     "output_type": "display_data"
    }
   ],
   "source": [
    "\"\"\"Produce a plot for the 2018/2019 speeches.\"\"\"\n",
    "# YOUR CODE HERE\n",
    "speeches_201819['party'].value_counts().plot(kind='bar')\n",
    "plt.title('Distribution of Speeches - 2018/2019')\n",
    "plt.show()\n",
    "# raise NotImplementedError()"
   ]
  },
  {
   "cell_type": "markdown",
   "metadata": {},
   "source": [
    "**Summarize your observations!**"
   ]
  },
  {
   "cell_type": "markdown",
   "metadata": {
    "deletable": false,
    "nbgrader": {
     "cell_type": "markdown",
     "checksum": "c6e2646f15ce9856a929ffb804c604e9",
     "grade": true,
     "grade_id": "cell-f17b6c18a5f3684c",
     "locked": false,
     "points": 1,
     "schema_version": 3,
     "solution": true,
     "task": false
    }
   },
   "source": [
    "From the above bar plots, it's clear that there's an uneven distribution of speeches among political parties. In 2017/2018, parties M, S, and MP stood out, delivering a lot more speeches than the others. In 2018/2019, parties S, M, and SD are leading, with other parties giving fewer speeches. Notably, throughout both periods, M and S consistently had the most speeches, showing they actively participated in expressing their views."
   ]
  },
  {
   "cell_type": "markdown",
   "metadata": {},
   "source": [
    "## Problem 2: Naive Bayes classifier"
   ]
  },
  {
   "cell_type": "markdown",
   "metadata": {},
   "source": [
    "You are now ready to train and evaluate a classifier. More specifically, we ask you to train a [Multinomial Naive Bayes](https://scikit-learn.org/stable/modules/naive_bayes.html#multinomial-naive-bayes) classifier. You will have to\n",
    "\n",
    "1. vectorize the speeches in the training data\n",
    "2. instantiate and fit the Naive Bayes model\n",
    "3. evaluate the model on the test data\n",
    "\n",
    "The scikit-learn library provides a convenience class [Pipeline](https://scikit-learn.org/stable/modules/generated/sklearn.pipeline.Pipeline.html) that allows you to solve the first two tasks with very compact code. For the evaluation you can use the function [`classification_report`](https://scikit-learn.org/stable/modules/generated/sklearn.metrics.classification_report.html), which will report per-class precision, recall and F1, as well as overall accuracy.\n",
    "\n",
    "**Write code to produce a Multinomial Naive Bayes classifier as described above and report its performance on the test data!**"
   ]
  },
  {
   "cell_type": "code",
   "execution_count": 8,
   "metadata": {
    "deletable": false,
    "nbgrader": {
     "cell_type": "code",
     "checksum": "76cea169d2a834695abe2643fce1f538",
     "grade": true,
     "grade_id": "cell-b311b60eb7e5a413",
     "locked": false,
     "points": 1,
     "schema_version": 3,
     "solution": true,
     "task": false
    },
    "tags": [
     "solution"
    ]
   },
   "outputs": [
    {
     "name": "stdout",
     "output_type": "stream",
     "text": [
      "              precision    recall  f1-score   support\n",
      "\n",
      "           S       0.63      0.04      0.07       671\n",
      "           V       0.70      0.02      0.03       821\n",
      "           M       0.92      0.02      0.04       560\n",
      "          SD       0.36      0.68      0.47      1644\n",
      "          MP       0.36      0.25      0.29       809\n",
      "           C       0.46      0.84      0.59      2773\n",
      "           L       0.57      0.12      0.20      1060\n",
      "          KD       0.59      0.15      0.24       950\n",
      "\n",
      "    accuracy                           0.43      9288\n",
      "   macro avg       0.57      0.26      0.24      9288\n",
      "weighted avg       0.52      0.43      0.34      9288\n",
      "\n"
     ]
    }
   ],
   "source": [
    "# YOUR CODE HERE\n",
    "from sklearn.pipeline import make_pipeline\n",
    "from sklearn.feature_extraction.text import CountVectorizer,TfidfVectorizer\n",
    "from sklearn.naive_bayes import MultinomialNB\n",
    "from sklearn.metrics import classification_report\n",
    "\n",
    "clf = make_pipeline(CountVectorizer(), MultinomialNB())\n",
    "\n",
    "clf.fit(training_data['words'], training_data['party'])\n",
    "\n",
    "y_pred = clf.predict(test_data['words'])\n",
    "target_names = training_data['party'].unique()\n",
    "print(classification_report(test_data['party'], y_pred, target_names=target_names))\n",
    "\n",
    "#raise NotImplementedError()"
   ]
  },
  {
   "cell_type": "markdown",
   "metadata": {},
   "source": [
    "Would you have expected the results that you got?"
   ]
  },
  {
   "cell_type": "markdown",
   "metadata": {},
   "source": [
    "The results obtained from the above Multinomial Naive Bayes classifier were somewhat expected. The accuracy of 0.43 suggests that the model's predictions are not highly accurate. The precision, recall, and F1-score metrics vary across parties. Some parties, like 'C' and 'SD', show relatively higher precision and recall, while others, like 'S' and 'V', have lower scores. The uneven distribution of speeches among parties seems to affect the model's performance, especially for parties with fewer speeches"
   ]
  },
  {
   "cell_type": "markdown",
   "metadata": {},
   "source": [
    "## Problem 3: Baselines"
   ]
  },
  {
   "cell_type": "markdown",
   "metadata": {},
   "source": [
    "Evaluation metrics such as accuracy should not be understood as absolute measures of performance, but should be used only to compare different classifiers. When other classifiers are not available, a simple baseline is a classifier that generates predictions by random sampling, respecting the training set&rsquo;s class distribution. This baseline is implemented by the class [DummyClassifier](https://scikit-learn.org/stable/modules/generated/sklearn.dummy.DummyClassifier.html). \n",
    "\n",
    "**Write code to fit a random baseline on the training data and report its performance on the test data!**"
   ]
  },
  {
   "cell_type": "code",
   "execution_count": 9,
   "metadata": {
    "deletable": false,
    "nbgrader": {
     "cell_type": "code",
     "checksum": "e61c3fc37d9f653081e9b0fcff3e4106",
     "grade": true,
     "grade_id": "cell-d487ca84ccab29cd",
     "locked": false,
     "points": 1,
     "schema_version": 3,
     "solution": true,
     "task": false
    },
    "tags": [
     "solution"
    ]
   },
   "outputs": [
    {
     "name": "stdout",
     "output_type": "stream",
     "text": [
      "Accuracy of the Stratified Dummy Classifier: 0.1738\n"
     ]
    }
   ],
   "source": [
    "# YOUR CODE HERE\n",
    "\n",
    "from sklearn.dummy import DummyClassifier\n",
    "\n",
    "# Instantiating and fitting a Stratified Dummy Classifier\n",
    "dummy_clf1 = DummyClassifier(strategy=\"stratified\")\n",
    "dummy_clf1.fit(training_data['words'], training_data['party'])\n",
    "\n",
    "# Evaluating and printing the accuracy\n",
    "accuracy_dummy_1= dummy_clf1.score(test_data['words'],test_data['party'])\n",
    "\n",
    "print(f\"Accuracy of the Stratified Dummy Classifier: {accuracy_dummy_1:.4}\")\n",
    "#raise NotImplementedError()"
   ]
  },
  {
   "cell_type": "markdown",
   "metadata": {},
   "source": [
    "An even dumber baseline is to predict, for every document, that class which appears most often in the training data. This baseline is also called the most frequent class baseline.\n",
    "\n",
    "**Write code to fit the most-frequent-class baseline on the training data and report its performance on the test data!**"
   ]
  },
  {
   "cell_type": "code",
   "execution_count": 10,
   "metadata": {
    "deletable": false,
    "nbgrader": {
     "cell_type": "code",
     "checksum": "af93eece5180010d1c22e6a18fd27c58",
     "grade": true,
     "grade_id": "cell-b24fc752be5cfcea",
     "locked": false,
     "points": 1,
     "schema_version": 3,
     "solution": true,
     "task": false
    },
    "tags": [
     "solution"
    ]
   },
   "outputs": [
    {
     "name": "stdout",
     "output_type": "stream",
     "text": [
      "Accuracy of the Most Frequent Dummy Classifier: 0.2986\n"
     ]
    }
   ],
   "source": [
    "# YOUR CODE HERE\n",
    "\n",
    "# Instantiating and fitting a Most Frequent Dummy Classifier\n",
    "dummy_clf2 = DummyClassifier(strategy=\"most_frequent\")\n",
    "dummy_clf2.fit(training_data['words'], training_data['party'])\n",
    "\n",
    "# Evaluating and printing the accuracy\n",
    "accuracy_dummy_2= dummy_clf2.score(test_data['words'],test_data['party'])\n",
    "print(f\"Accuracy of the Most Frequent Dummy Classifier: {accuracy_dummy_2:.4}\")\n",
    "#raise NotImplementedError()"
   ]
  },
  {
   "cell_type": "markdown",
   "metadata": {},
   "source": [
    "## Problem 4: Creating a balanced data set"
   ]
  },
  {
   "cell_type": "markdown",
   "metadata": {},
   "source": [
    "As you saw in Problem&nbsp;1, the distribution of the speeches over the eight different parties (classes) is imbalanced. One technique used to alleviate this is **undersampling**, in which one randomly removes samples from over-represented classes until all classes are represented with the same number of samples.\n",
    "\n",
    "Implement undersampling to create a balanced subset of the training data. Rerun the evaluation from Problem&nbsp;2 on the balanced data and compare the results. Summarise your results in a short text.\n",
    "\n",
    "**Hint:** Your balanced subset should consist of 5,752 speeches.\n",
    "\n",
    "**Write code to implement undersampling with the classifier from Problem 2 and report its performance on the test data!**"
   ]
  },
  {
   "cell_type": "code",
   "execution_count": 11,
   "metadata": {
    "deletable": false,
    "nbgrader": {
     "cell_type": "code",
     "checksum": "18d2647d28ce2e85f5d083a731347903",
     "grade": true,
     "grade_id": "cell-745500aace13dd25",
     "locked": false,
     "points": 1,
     "schema_version": 3,
     "solution": true,
     "task": false
    },
    "tags": [
     "solution"
    ]
   },
   "outputs": [
    {
     "name": "stdout",
     "output_type": "stream",
     "text": [
      "Shape of balanced dataset is (5752, 3)\n"
     ]
    }
   ],
   "source": [
    "# YOUR CODE HERE\n",
    "import numpy as np\n",
    "\n",
    "\n",
    "# Initializing an empty array to store indices to be removed\n",
    "ind_to_remove = np.array([])\n",
    "\n",
    "for party_name in training_data['party'].unique():\n",
    "    \n",
    "    # Filtering data for the current party\n",
    "    filt_dat = training_data[training_data['party']==party_name]\n",
    "\n",
    "    # Randomly choose indices to be removed to balance the dataset\n",
    "    rand_indices = np.random.choice(filt_dat.index, size=filt_dat.shape[0]-719, replace=False)\n",
    "\n",
    "    # Append the selected indices to the array\n",
    "    ind_to_remove = np.append(ind_to_remove,rand_indices)\n",
    "\n",
    "# Creating a new training dataset by dropping the selected indices\n",
    "new_training_data = training_data.drop(ind_to_remove)\n",
    "\n",
    "print(f\"Shape of balanced dataset is {new_training_data.shape}\")"
   ]
  },
  {
   "cell_type": "code",
   "execution_count": 12,
   "metadata": {},
   "outputs": [
    {
     "data": {
      "image/png": "[encoded data removed]",
      "text/plain": [
       "<Figure size 640x480 with 1 Axes>"
      ]
     },
     "metadata": {},
     "output_type": "display_data"
    }
   ],
   "source": [
    "new_training_data['party'].value_counts().plot(kind='bar')\n",
    "plt.title('Distribution of Speeches in Balanced Training Data')\n",
    "plt.show()"
   ]
  },
  {
   "cell_type": "code",
   "execution_count": 13,
   "metadata": {},
   "outputs": [
    {
     "name": "stdout",
     "output_type": "stream",
     "text": [
      "              precision    recall  f1-score   support\n",
      "\n",
      "           V       0.30      0.44      0.36       671\n",
      "           M       0.29      0.39      0.34       821\n",
      "          SD       0.27      0.47      0.35       560\n",
      "          MP       0.41      0.47      0.44      1644\n",
      "           C       0.34      0.36      0.35       809\n",
      "           L       0.80      0.32      0.46      2773\n",
      "          KD       0.45      0.43      0.44      1060\n",
      "           S       0.38      0.55      0.45       950\n",
      "\n",
      "    accuracy                           0.41      9288\n",
      "   macro avg       0.41      0.43      0.40      9288\n",
      "weighted avg       0.50      0.41      0.42      9288\n",
      "\n"
     ]
    }
   ],
   "source": [
    "# Creating a pipeline with Multinomial Naive Bayes classifier\n",
    "clf_new = make_pipeline(CountVectorizer(), MultinomialNB())\n",
    "\n",
    "# Fit the classifier on the balanced training data\n",
    "clf_new.fit(new_training_data['words'], new_training_data['party'])\n",
    "\n",
    "# Making predictions on the test data and printing model's performance\n",
    "y_pred_new = clf_new.predict(test_data['words'])\n",
    "target_names = new_training_data['party'].unique()\n",
    "print(classification_report(test_data['party'], y_pred_new, target_names=target_names))"
   ]
  },
  {
   "cell_type": "markdown",
   "metadata": {},
   "source": [
    "**Provide a brief summary of the results.**"
   ]
  },
  {
   "cell_type": "markdown",
   "metadata": {
    "deletable": false,
    "nbgrader": {
     "cell_type": "markdown",
     "checksum": "a4e86e238e8f3f50f05b563abbe755bc",
     "grade": true,
     "grade_id": "cell-eeb83925f8b01bde",
     "locked": false,
     "points": 1,
     "schema_version": 3,
     "solution": true,
     "task": false
    }
   },
   "source": [
    "After undersampling to create a balanced dataset, the model's accuracy slightly dropped to 0.41. Changes in precision, recall, and F1-score for each party indicate the impact of class balancing. Balancing the dataset affected the model's ability to predict on the minority classes, with precision and recall decreasing for most classes. This suggests a trade-off in overall performance for achieving class balance."
   ]
  },
  {
   "cell_type": "markdown",
   "metadata": {},
   "source": [
    "## Problem 5: Confusion matrix"
   ]
  },
  {
   "cell_type": "markdown",
   "metadata": {},
   "source": [
    "A **confusion matrix** is a specific table that is useful when analysing the performance of a classifier. In this table, both the rows and the columns correspond to classes, and each cell $(i, j)$ states how many times a sample with gold-standard class $i$ was predicted as belonging to class $j$.\n",
    "\n",
    "In scitkit-learn, the confusion matrix of a classifier is computed by the function [`confusion_matrix`](https://scikit-learn.org/stable/modules/generated/sklearn.metrics.confusion_matrix.html). To generate a visual representation, you can use [`ConfusionMatrixDisplay`](https://scikit-learn.org/stable/modules/generated/sklearn.metrics.ConfusionMatrixDisplay.html).\n",
    "\n",
    "Your task is to use the confusion matrix in order to find, for each given party $p$ in the Riksdag, that other party $p'$ which the classifier that you trained in Problem&nbsp;4 most often confuses with $p$ when it predicts the party of a speaker."
   ]
  },
  {
   "cell_type": "markdown",
   "metadata": {},
   "source": [
    "**Write code to display/plot the confusion matrix for the classifier from Problem 4 as evaluated on the test data!**"
   ]
  },
  {
   "cell_type": "code",
   "execution_count": 14,
   "metadata": {
    "deletable": false,
    "nbgrader": {
     "cell_type": "code",
     "checksum": "bde58c490efdaca4409b0a0f4576c0e6",
     "grade": true,
     "grade_id": "cell-21ecc77e9a55fb00",
     "locked": false,
     "points": 1,
     "schema_version": 3,
     "solution": true,
     "task": false
    },
    "tags": [
     "solution"
    ]
   },
   "outputs": [
    {
     "data": {
      "image/png": "[encoded data removed]",
      "text/plain": [
       "<Figure size 640x480 with 2 Axes>"
      ]
     },
     "metadata": {},
     "output_type": "display_data"
    }
   ],
   "source": [
    "# YOUR CODE HERE\n",
    "import matplotlib.pyplot as plt\n",
    "from sklearn.metrics import confusion_matrix, ConfusionMatrixDisplay\n",
    "\n",
    "# Compute confusion matrix\n",
    "cm = confusion_matrix(test_data['party'], y_pred_new, labels=clf_new.classes_)\n",
    "\n",
    "# Display the confusion matrix\n",
    "disp = ConfusionMatrixDisplay(confusion_matrix=cm,display_labels=clf_new.classes_)\n",
    "disp.plot()\n",
    "plt.show()\n",
    "#raise NotImplementedError()"
   ]
  },
  {
   "cell_type": "markdown",
   "metadata": {},
   "source": [
    "**Write code that, for each party $p$, print the party most often confused with $p$ by the classifier from Problem 4!**"
   ]
  },
  {
   "cell_type": "code",
   "execution_count": 15,
   "metadata": {
    "deletable": false,
    "nbgrader": {
     "cell_type": "code",
     "checksum": "9cd82f4488fd2d66933c6bbdfe1179e3",
     "grade": true,
     "grade_id": "cell-200a41c181d159a3",
     "locked": false,
     "points": 1,
     "schema_version": 3,
     "solution": true,
     "task": false
    }
   },
   "outputs": [
    {
     "name": "stdout",
     "output_type": "stream",
     "text": [
      "Party 'C' is most confused with party 'M' \n",
      "Party 'KD' is most confused with party 'M' \n",
      "Party 'L' is most confused with party 'M' \n",
      "Party 'M' is most confused with party 'KD' \n",
      "Party 'MP' is most confused with party 'V' \n",
      "Party 'S' is most confused with party 'M' \n",
      "Party 'SD' is most confused with party 'M' \n",
      "Party 'V' is most confused with party 'M' \n"
     ]
    }
   ],
   "source": [
    "# YOUR CODE HERE\n",
    "for i in range (cm.shape[0]):\n",
    "    class_vec = cm[i,:]\n",
    "    class_vec[i]= 0\n",
    "    print(f\"Party '{clf_new.classes_[i]}' is most confused with party '{clf_new.classes_[np.argmax(class_vec)]}' \")\n",
    "#raise NotImplementedError()"
   ]
  },
  {
   "cell_type": "markdown",
   "metadata": {},
   "source": [
    "Take a minute to reflect on whether your results make sense."
   ]
  },
  {
   "cell_type": "markdown",
   "metadata": {},
   "source": [
    "The results match what we expected. Making the dataset balanced made the model work better, as shown by better accuracy on the main parts of the confusion matrix. There are small differences, especially for parties like 'M,' which could mean there are still some challenges or biases. In general, the improved classification on the balanced data shows that the model is better at understanding different political parties."
   ]
  },
  {
   "cell_type": "markdown",
   "metadata": {},
   "source": [
    "## Problem 6: Grid search"
   ]
  },
  {
   "cell_type": "markdown",
   "metadata": {},
   "source": [
    "Until now, you have been using the vectorizer and the Naive Bayes classifier with their default hyperparameters. When working with real-world applications, you would want to find settings for the hyperparameters that maximize the performance for the task at hand.\n",
    "\n",
    "Manually tweaking the hyperparameters of the various components of a vectorizer–classifier pipeline can be cumbersome. However, scikit-learn makes it possible to run an exhaustive search for the best hyperparameters over a grid of possible values. This method is known as **grid search**.\n",
    "\n",
    "The hyperparameters of a pipeline should never be tuned on the final test set. Instead, one should either use a separate validation set, or run cross-validation over different folds. Here we will use cross-validation.\n",
    "\n",
    "Implement a grid search with 5-fold cross-validation to find the optimal parameters in a grid defined by the following choices for the hyperparameters:\n",
    "\n",
    "* In the vectorizer, try a set-of-words (binary) model in addition to the default bag-of-words model (two possible parameter values).\n",
    "* Also in the vectorizer, try extracting bigrams in addition to unigrams (two possible parameter values).\n",
    "* In the Naive Bayes classifier, try using additive smoothing with $\\alpha \\in \\{1, 0{.}1\\}$ (two possible parameter values).\n",
    "\n",
    "Use the class [GridSearchCV](https://scikit-learn.org/stable/modules/generated/sklearn.model_selection.GridSearchCV.html) from the scikit-learn library.\n",
    "\n",
    "**Write code to perform grid search, then print the results of your best model, along with the parameter values that yielded these results.**"
   ]
  },
  {
   "cell_type": "code",
   "execution_count": 16,
   "metadata": {
    "deletable": false,
    "nbgrader": {
     "cell_type": "code",
     "checksum": "2fec6c6f6c8f459b01e145223c705f3a",
     "grade": true,
     "grade_id": "cell-fc4a0a81ba69cbf7",
     "locked": false,
     "points": 1,
     "schema_version": 3,
     "solution": true,
     "task": false
    },
    "tags": [
     "solution"
    ]
   },
   "outputs": [
    {
     "name": "stdout",
     "output_type": "stream",
     "text": [
      "Best Model: Pipeline(steps=[('countvecterizer', CountVectorizer()),\n",
      "                ('NBclf', MultinomialNB(alpha=0.1))])\n",
      "Best parameters: {'NBclf__alpha': 0.1, 'countvecterizer__binary': False, 'countvecterizer__ngram_range': (1, 1)}\n",
      "Accuracy of best model: 0.5859950583343673\n"
     ]
    }
   ],
   "source": [
    "# YOUR CODE HERE\n",
    "from sklearn.pipeline import Pipeline\n",
    "from sklearn.model_selection import GridSearchCV\n",
    "\n",
    "# A pipeline with CountVectorizer and MultinomialNB\n",
    "grid_pipe = Pipeline([('countvecterizer',CountVectorizer()),('NBclf',MultinomialNB())])\n",
    "\n",
    "# A grid of parameters\n",
    "grid_params = {\n",
    "    'countvecterizer__binary': [True, False],\n",
    "    'countvecterizer__ngram_range': [(1, 1), (1, 2)],\n",
    "    'NBclf__alpha': (1, 0.1),\n",
    "}\n",
    "\n",
    "# grid search for best parameters with 5-fold cross validation\n",
    "grid_search = GridSearchCV(grid_pipe, grid_params, cv=5)\n",
    "\n",
    "gridcv_clf = grid_search.fit(training_data['words'], training_data['party'])\n",
    "\n",
    "print(f\"Best Model: {grid_search.best_estimator_}\")\n",
    "print(f\"Best parameters: {grid_search.best_params_}\")\n",
    "\n",
    "# Printing performance (accuracy)\n",
    "print(f\"Accuracy of best model: {grid_search.best_score_}\")"
   ]
  },
  {
   "cell_type": "code",
   "execution_count": 17,
   "metadata": {},
   "outputs": [
    {
     "name": "stdout",
     "output_type": "stream",
     "text": [
      "              precision    recall  f1-score   support\n",
      "\n",
      "           V       0.39      0.27      0.32       671\n",
      "           M       0.45      0.24      0.31       821\n",
      "          SD       0.37      0.26      0.30       560\n",
      "          MP       0.44      0.58      0.50      1644\n",
      "           C       0.32      0.46      0.38       809\n",
      "           L       0.61      0.65      0.63      2773\n",
      "          KD       0.49      0.43      0.45      1060\n",
      "           S       0.50      0.42      0.46       950\n",
      "\n",
      "    accuracy                           0.48      9288\n",
      "   macro avg       0.45      0.41      0.42      9288\n",
      "weighted avg       0.48      0.48      0.48      9288\n",
      "\n"
     ]
    }
   ],
   "source": [
    "# Predictions on test data\n",
    "y_pred_grid = gridcv_clf.predict(test_data['words'])\n",
    "\n",
    "# printing the performance\n",
    "print(classification_report(test_data['party'], y_pred_grid, target_names=target_names))"
   ]
  },
  {
   "cell_type": "markdown",
   "metadata": {},
   "source": [
    "## Problem 7: Try to improve your results"
   ]
  },
  {
   "cell_type": "markdown",
   "metadata": {},
   "source": [
    "Scikit-learn makes it easy to test different vectorizer–classifier pipelines – among other things, it includes different types of logistic regression classifiers, support vector machines, and decision trees. Browse the library to see which methods are supported.\n",
    "\n",
    "**Build a pipeline that you find interesting, and use grid search to find optimal settings for the hyperparameters. Print the results of your best model.**"
   ]
  },
  {
   "cell_type": "code",
   "execution_count": 18,
   "metadata": {
    "deletable": false,
    "nbgrader": {
     "cell_type": "code",
     "checksum": "d19fb3355ef2f1c77b5b2c0447e7ddd8",
     "grade": true,
     "grade_id": "cell-c7fa5745a0f6c345",
     "locked": false,
     "points": 1,
     "schema_version": 3,
     "solution": true,
     "task": false
    }
   },
   "outputs": [
    {
     "name": "stdout",
     "output_type": "stream",
     "text": [
      "Best Model: Pipeline(steps=[('tfidf_vectorizer', TfidfVectorizer(ngram_range=(1, 2))),\n",
      "                ('svm_classifier', LinearSVC(dual=False))])\n",
      "Best parameters: {'svm_classifier__C': 1.0, 'tfidf_vectorizer__binary': False, 'tfidf_vectorizer__ngram_range': (1, 2)}\n",
      "Accuracy of best model: 0.6436027486373987\n"
     ]
    }
   ],
   "source": [
    "# YOUR CODE HERE\n",
    "from sklearn.svm import LinearSVC\n",
    "\n",
    "# A pipeline with TfidfVectorizer and LinearSVC\n",
    "svm_grid_pipe = Pipeline([('tfidf_vectorizer', TfidfVectorizer()),('svm_classifier', LinearSVC(dual=False))])\n",
    "\n",
    "# Define the parameter grid for grid search\n",
    "svm_grid_params = {\n",
    "    'tfidf_vectorizer__binary': [True, False],          \n",
    "    'tfidf_vectorizer__ngram_range': [(1, 1), (1, 2)],  \n",
    "    'svm_classifier__C': [0.1, 1.0]                     # Regularization parameter\n",
    "}\n",
    "\n",
    "# grid search for best parameters with 5-fold cross validation\n",
    "svm_grid_search = GridSearchCV(svm_grid_pipe, svm_grid_params, cv=5)\n",
    "gridcv_svm = svm_grid_search.fit(training_data['words'], training_data['party'])\n",
    "\n",
    "# Printing the best model and its parameters\n",
    "print(f\"Best Model: {svm_grid_search.best_estimator_}\")\n",
    "print(f\"Best parameters: {svm_grid_search.best_params_}\")\n",
    "\n",
    "# Printing performance (accuracy)\n",
    "print(f\"Accuracy of best model: {svm_grid_search.best_score_}\")\n",
    "\n",
    "#raise NotImplementedError()"
   ]
  },
  {
   "cell_type": "code",
   "execution_count": 19,
   "metadata": {},
   "outputs": [
    {
     "name": "stdout",
     "output_type": "stream",
     "text": [
      "              precision    recall  f1-score   support\n",
      "\n",
      "           V       0.60      0.33      0.43       671\n",
      "           M       0.64      0.23      0.33       821\n",
      "          SD       0.59      0.29      0.39       560\n",
      "          MP       0.48      0.64      0.55      1644\n",
      "           C       0.44      0.36      0.39       809\n",
      "           L       0.56      0.85      0.67      2773\n",
      "          KD       0.63      0.44      0.52      1060\n",
      "           S       0.68      0.37      0.48       950\n",
      "\n",
      "    accuracy                           0.55      9288\n",
      "   macro avg       0.58      0.44      0.47      9288\n",
      "weighted avg       0.57      0.55      0.52      9288\n",
      "\n"
     ]
    }
   ],
   "source": [
    "# Predictions on test data\n",
    "y_pred_grid_svm = gridcv_svm.predict(test_data['words'])\n",
    "\n",
    "# printing the performance\n",
    "print(classification_report(test_data['party'], y_pred_grid_svm, target_names=target_names))"
   ]
  },
  {
   "cell_type": "markdown",
   "metadata": {},
   "source": [
    "**Congratulations on finishing this lab! 👍**\n",
    "\n",
    "<div class=\"alert alert-info\">\n",
    "    \n",
    "➡️ Don't forget to **test that everything runs as expected** before you submit!\n",
    "\n",
    "</div>"
   ]
  }
 ],
 "metadata": {
  "kernelspec": {
   "display_name": "Python 3 (ipykernel)",
   "language": "python",
   "name": "python3"
  },
  "language_info": {
   "codemirror_mode": {
    "name": "ipython",
    "version": 3
   },
   "file_extension": ".py",
   "mimetype": "text/x-python",
   "name": "python",
   "nbconvert_exporter": "python",
   "pygments_lexer": "ipython3",
   "version": "3.9.13"
  }
 },
 "nbformat": 4,
 "nbformat_minor": 4
}
